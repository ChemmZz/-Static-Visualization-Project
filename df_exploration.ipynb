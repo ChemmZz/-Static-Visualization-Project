{
 "cells": [
  {
   "cell_type": "code",
   "execution_count": null,
   "id": "d133a423",
   "metadata": {},
   "outputs": [],
   "source": [
    "# Imports\n",
    "import polars as pl\n",
    "import altair as al\n",
    "\n",
    "# Load raw dataframes\n"
   ]
  },
  {
   "cell_type": "code",
   "execution_count": 61,
   "id": "848704bb",
   "metadata": {},
   "outputs": [],
   "source": [
    "def rdd_bdgt_df():\n",
    "    rdd_bdt_public_raw = pl.read_csv(\"data/OECD.IEA,RDDPUBLIC,1.0,filtered,2025-10-16 03-48-20.csv\")\n",
    "\n",
    "    return rdd_bdt_public_raw.drop([\"STRUCTURE\", \"STRUCTURE_ID\", \n",
    "                                    \"STRUCTURE_NAME\", \"ACTION\", \"Decimals\", \n",
    "                                    \"FREQUENCY\", \"Frequency\"])"
   ]
  },
  {
   "cell_type": "code",
   "execution_count": null,
   "id": "c542ea2e",
   "metadata": {},
   "outputs": [],
   "source": [
    "def rdd_bdgt_oecd_europe_df():\n",
    "    \n",
    "    oecd_europe_countries = [\n",
    "    \"AUSTRIA\", \"BELGIUM\", \"CZECH\", \"DENMARK\", \"ESTONIA\", \n",
    "    \"FINLAND\", \"FRANCE\", \"GERMANY\", \"GREECE\", \"HUNGARY\",\n",
    "    \"IRELAND\", \"ITALY\", \"LITHUANIA\", \n",
    "    \"LUXEMBOURG\", \"NETHERLANDS\", \"NORWAY\", \"POLAND\", \"PORTUGAL\", \n",
    "    \"SLOVAKIA\", \"SPAIN\", \"SWEDEN\", \"SWITZERLAND\", \n",
    "    \"UNITED KINGDOM\"\n",
    "    ]\n",
    "\n",
    "    return rdd_bdgt_df().filter(pl.col(\"COUNTRY\").is_in(oecd_europe_countries))"
   ]
  },
  {
   "cell_type": "code",
   "execution_count": 63,
   "id": "dd179971",
   "metadata": {},
   "outputs": [
    {
     "data": {
      "text/html": [
       "<div><style>\n",
       ".dataframe > thead > tr,\n",
       ".dataframe > tbody > tr {\n",
       "  text-align: right;\n",
       "  white-space: pre-wrap;\n",
       "}\n",
       "</style>\n",
       "<small>shape: (823, 21)</small><table border=\"1\" class=\"dataframe\"><thead><tr><th>COUNTRY</th><th>Country/Region</th><th>RDD_SECTOR</th><th>Sector</th><th>RDD_TECH</th><th>Technology</th><th>RDD_TYPE</th><th>Type</th><th>UNIT</th><th>Unit</th><th>TIME_PERIOD</th><th>Time Period</th><th>OBS_VALUE</th><th>Observation value</th><th>QUALIFIER</th><th>Qualifier</th><th>CONF_STATUS</th><th>Confidential Status</th><th>UNIT_MULT</th><th>Unit multiplier</th><th>DECIMALS</th></tr><tr><td>str</td><td>str</td><td>str</td><td>str</td><td>str</td><td>str</td><td>str</td><td>str</td><td>str</td><td>str</td><td>i64</td><td>str</td><td>f64</td><td>str</td><td>str</td><td>str</td><td>str</td><td>str</td><td>i64</td><td>str</td><td>i64</td></tr></thead><tbody><tr><td>&quot;IRELAND&quot;</td><td>&quot;Ireland&quot;</td><td>&quot;PUBLIC&quot;</td><td>&quot;Total public&quot;</td><td>&quot;FOSSILFUEL&quot;</td><td>&quot;Group 2: Fossil fuels&quot;</td><td>&quot;RDD&quot;</td><td>&quot;Research, development and demo…</td><td>&quot;NC_N&quot;</td><td>&quot;National currency (nominal)&quot;</td><td>2020</td><td>null</td><td>0.911</td><td>null</td><td>&quot;I&quot;</td><td>&quot;Imputed Value&quot;</td><td>&quot;F&quot;</td><td>&quot;Non-confidential&quot;</td><td>6</td><td>&quot;Millions&quot;</td><td>3</td></tr><tr><td>&quot;IRELAND&quot;</td><td>&quot;Ireland&quot;</td><td>&quot;PUBLIC&quot;</td><td>&quot;Total public&quot;</td><td>&quot;FOSSILFUEL&quot;</td><td>&quot;Group 2: Fossil fuels&quot;</td><td>&quot;RDD&quot;</td><td>&quot;Research, development and demo…</td><td>&quot;NC_N&quot;</td><td>&quot;National currency (nominal)&quot;</td><td>2021</td><td>null</td><td>0.821</td><td>null</td><td>&quot;I&quot;</td><td>&quot;Imputed Value&quot;</td><td>&quot;F&quot;</td><td>&quot;Non-confidential&quot;</td><td>6</td><td>&quot;Millions&quot;</td><td>3</td></tr><tr><td>&quot;IRELAND&quot;</td><td>&quot;Ireland&quot;</td><td>&quot;PUBLIC&quot;</td><td>&quot;Total public&quot;</td><td>&quot;FOSSILFUEL&quot;</td><td>&quot;Group 2: Fossil fuels&quot;</td><td>&quot;RDD&quot;</td><td>&quot;Research, development and demo…</td><td>&quot;NC_N&quot;</td><td>&quot;National currency (nominal)&quot;</td><td>2022</td><td>null</td><td>0.712</td><td>null</td><td>&quot;I&quot;</td><td>&quot;Imputed Value&quot;</td><td>&quot;F&quot;</td><td>&quot;Non-confidential&quot;</td><td>6</td><td>&quot;Millions&quot;</td><td>3</td></tr><tr><td>&quot;IRELAND&quot;</td><td>&quot;Ireland&quot;</td><td>&quot;PUBLIC&quot;</td><td>&quot;Total public&quot;</td><td>&quot;FOSSILFUEL&quot;</td><td>&quot;Group 2: Fossil fuels&quot;</td><td>&quot;RDD&quot;</td><td>&quot;Research, development and demo…</td><td>&quot;NC_N&quot;</td><td>&quot;National currency (nominal)&quot;</td><td>2023</td><td>null</td><td>0.458</td><td>null</td><td>&quot;I&quot;</td><td>&quot;Imputed Value&quot;</td><td>&quot;F&quot;</td><td>&quot;Non-confidential&quot;</td><td>6</td><td>&quot;Millions&quot;</td><td>3</td></tr><tr><td>&quot;HUNGARY&quot;</td><td>&quot;Hungary&quot;</td><td>&quot;PUBLIC&quot;</td><td>&quot;Total public&quot;</td><td>&quot;EFFICIENCY&quot;</td><td>&quot;Group 1: Energy efficiency&quot;</td><td>&quot;RDD&quot;</td><td>&quot;Research, development and demo…</td><td>&quot;NC_N&quot;</td><td>&quot;National currency (nominal)&quot;</td><td>2020</td><td>null</td><td>2365.471</td><td>null</td><td>&quot;I&quot;</td><td>&quot;Imputed Value&quot;</td><td>&quot;F&quot;</td><td>&quot;Non-confidential&quot;</td><td>6</td><td>&quot;Millions&quot;</td><td>3</td></tr><tr><td>&hellip;</td><td>&hellip;</td><td>&hellip;</td><td>&hellip;</td><td>&hellip;</td><td>&hellip;</td><td>&hellip;</td><td>&hellip;</td><td>&hellip;</td><td>&hellip;</td><td>&hellip;</td><td>&hellip;</td><td>&hellip;</td><td>&hellip;</td><td>&hellip;</td><td>&hellip;</td><td>&hellip;</td><td>&hellip;</td><td>&hellip;</td><td>&hellip;</td><td>&hellip;</td></tr><tr><td>&quot;DENMARK&quot;</td><td>&quot;Denmark&quot;</td><td>&quot;PUBLIC&quot;</td><td>&quot;Total public&quot;</td><td>&quot;UNALLOC&quot;</td><td>&quot;Group 8: Unallocated&quot;</td><td>&quot;RDD&quot;</td><td>&quot;Research, development and demo…</td><td>&quot;NC_N&quot;</td><td>&quot;National currency (nominal)&quot;</td><td>2024</td><td>null</td><td>0.0</td><td>null</td><td>&quot;P&quot;</td><td>&quot;Provisional Value&quot;</td><td>&quot;F&quot;</td><td>&quot;Non-confidential&quot;</td><td>6</td><td>&quot;Millions&quot;</td><td>3</td></tr><tr><td>&quot;FRANCE&quot;</td><td>&quot;France&quot;</td><td>&quot;PUBLIC&quot;</td><td>&quot;Total public&quot;</td><td>&quot;RENEWABLE&quot;</td><td>&quot;Group 3: Renewable energy sour…</td><td>&quot;RDD&quot;</td><td>&quot;Research, development and demo…</td><td>&quot;NC_N&quot;</td><td>&quot;National currency (nominal)&quot;</td><td>2020</td><td>null</td><td>194.931</td><td>null</td><td>&quot;I&quot;</td><td>&quot;Imputed Value&quot;</td><td>&quot;F&quot;</td><td>&quot;Non-confidential&quot;</td><td>6</td><td>&quot;Millions&quot;</td><td>3</td></tr><tr><td>&quot;FRANCE&quot;</td><td>&quot;France&quot;</td><td>&quot;PUBLIC&quot;</td><td>&quot;Total public&quot;</td><td>&quot;RENEWABLE&quot;</td><td>&quot;Group 3: Renewable energy sour…</td><td>&quot;RDD&quot;</td><td>&quot;Research, development and demo…</td><td>&quot;NC_N&quot;</td><td>&quot;National currency (nominal)&quot;</td><td>2021</td><td>null</td><td>206.842</td><td>null</td><td>&quot;I&quot;</td><td>&quot;Imputed Value&quot;</td><td>&quot;F&quot;</td><td>&quot;Non-confidential&quot;</td><td>6</td><td>&quot;Millions&quot;</td><td>3</td></tr><tr><td>&quot;FRANCE&quot;</td><td>&quot;France&quot;</td><td>&quot;PUBLIC&quot;</td><td>&quot;Total public&quot;</td><td>&quot;RENEWABLE&quot;</td><td>&quot;Group 3: Renewable energy sour…</td><td>&quot;RDD&quot;</td><td>&quot;Research, development and demo…</td><td>&quot;NC_N&quot;</td><td>&quot;National currency (nominal)&quot;</td><td>2022</td><td>null</td><td>289.973</td><td>null</td><td>&quot;I&quot;</td><td>&quot;Imputed Value&quot;</td><td>&quot;F&quot;</td><td>&quot;Non-confidential&quot;</td><td>6</td><td>&quot;Millions&quot;</td><td>3</td></tr><tr><td>&quot;FRANCE&quot;</td><td>&quot;France&quot;</td><td>&quot;PUBLIC&quot;</td><td>&quot;Total public&quot;</td><td>&quot;RENEWABLE&quot;</td><td>&quot;Group 3: Renewable energy sour…</td><td>&quot;RDD&quot;</td><td>&quot;Research, development and demo…</td><td>&quot;NC_N&quot;</td><td>&quot;National currency (nominal)&quot;</td><td>2023</td><td>null</td><td>254.769</td><td>null</td><td>&quot;I&quot;</td><td>&quot;Imputed Value&quot;</td><td>&quot;F&quot;</td><td>&quot;Non-confidential&quot;</td><td>6</td><td>&quot;Millions&quot;</td><td>3</td></tr></tbody></table></div>"
      ],
      "text/plain": [
       "shape: (823, 21)\n",
       "┌─────────┬─────────────┬────────────┬────────┬───┬────────────┬───────────┬────────────┬──────────┐\n",
       "│ COUNTRY ┆ Country/Reg ┆ RDD_SECTOR ┆ Sector ┆ … ┆ Confidenti ┆ UNIT_MULT ┆ Unit       ┆ DECIMALS │\n",
       "│ ---     ┆ ion         ┆ ---        ┆ ---    ┆   ┆ al Status  ┆ ---       ┆ multiplier ┆ ---      │\n",
       "│ str     ┆ ---         ┆ str        ┆ str    ┆   ┆ ---        ┆ i64       ┆ ---        ┆ i64      │\n",
       "│         ┆ str         ┆            ┆        ┆   ┆ str        ┆           ┆ str        ┆          │\n",
       "╞═════════╪═════════════╪════════════╪════════╪═══╪════════════╪═══════════╪════════════╪══════════╡\n",
       "│ IRELAND ┆ Ireland     ┆ PUBLIC     ┆ Total  ┆ … ┆ Non-confid ┆ 6         ┆ Millions   ┆ 3        │\n",
       "│         ┆             ┆            ┆ public ┆   ┆ ential     ┆           ┆            ┆          │\n",
       "│ IRELAND ┆ Ireland     ┆ PUBLIC     ┆ Total  ┆ … ┆ Non-confid ┆ 6         ┆ Millions   ┆ 3        │\n",
       "│         ┆             ┆            ┆ public ┆   ┆ ential     ┆           ┆            ┆          │\n",
       "│ IRELAND ┆ Ireland     ┆ PUBLIC     ┆ Total  ┆ … ┆ Non-confid ┆ 6         ┆ Millions   ┆ 3        │\n",
       "│         ┆             ┆            ┆ public ┆   ┆ ential     ┆           ┆            ┆          │\n",
       "│ IRELAND ┆ Ireland     ┆ PUBLIC     ┆ Total  ┆ … ┆ Non-confid ┆ 6         ┆ Millions   ┆ 3        │\n",
       "│         ┆             ┆            ┆ public ┆   ┆ ential     ┆           ┆            ┆          │\n",
       "│ HUNGARY ┆ Hungary     ┆ PUBLIC     ┆ Total  ┆ … ┆ Non-confid ┆ 6         ┆ Millions   ┆ 3        │\n",
       "│         ┆             ┆            ┆ public ┆   ┆ ential     ┆           ┆            ┆          │\n",
       "│ …       ┆ …           ┆ …          ┆ …      ┆ … ┆ …          ┆ …         ┆ …          ┆ …        │\n",
       "│ DENMARK ┆ Denmark     ┆ PUBLIC     ┆ Total  ┆ … ┆ Non-confid ┆ 6         ┆ Millions   ┆ 3        │\n",
       "│         ┆             ┆            ┆ public ┆   ┆ ential     ┆           ┆            ┆          │\n",
       "│ FRANCE  ┆ France      ┆ PUBLIC     ┆ Total  ┆ … ┆ Non-confid ┆ 6         ┆ Millions   ┆ 3        │\n",
       "│         ┆             ┆            ┆ public ┆   ┆ ential     ┆           ┆            ┆          │\n",
       "│ FRANCE  ┆ France      ┆ PUBLIC     ┆ Total  ┆ … ┆ Non-confid ┆ 6         ┆ Millions   ┆ 3        │\n",
       "│         ┆             ┆            ┆ public ┆   ┆ ential     ┆           ┆            ┆          │\n",
       "│ FRANCE  ┆ France      ┆ PUBLIC     ┆ Total  ┆ … ┆ Non-confid ┆ 6         ┆ Millions   ┆ 3        │\n",
       "│         ┆             ┆            ┆ public ┆   ┆ ential     ┆           ┆            ┆          │\n",
       "│ FRANCE  ┆ France      ┆ PUBLIC     ┆ Total  ┆ … ┆ Non-confid ┆ 6         ┆ Millions   ┆ 3        │\n",
       "│         ┆             ┆            ┆ public ┆   ┆ ential     ┆           ┆            ┆          │\n",
       "└─────────┴─────────────┴────────────┴────────┴───┴────────────┴───────────┴────────────┴──────────┘"
      ]
     },
     "execution_count": 63,
     "metadata": {},
     "output_type": "execute_result"
    }
   ],
   "source": [
    "rdd_bdgt_oecd_europe_df()"
   ]
  },
  {
   "cell_type": "code",
   "execution_count": null,
   "id": "812548e4",
   "metadata": {},
   "outputs": [],
   "source": []
  },
  {
   "cell_type": "code",
   "execution_count": 9,
   "id": "a5334a5d",
   "metadata": {},
   "outputs": [
    {
     "data": {
      "text/html": [
       "<div><style>\n",
       ".dataframe > thead > tr,\n",
       ".dataframe > tbody > tr {\n",
       "  text-align: right;\n",
       "  white-space: pre-wrap;\n",
       "}\n",
       "</style>\n",
       "<small>shape: (26_656, 13)</small><table border=\"1\" class=\"dataframe\"><thead><tr><th>Area</th><th>Date</th><th>Area type</th><th>Region</th><th>Commodity code</th><th>Commodity type</th><th>Amount (items)</th><th>Amount (kg)</th><th>Amount (USD)</th><th>Commodity price</th><th>Price unit</th><th>Capacity (MW)</th><th>Cumulative capacity (MW)</th></tr><tr><td>str</td><td>str</td><td>str</td><td>str</td><td>i64</td><td>str</td><td>i64</td><td>f64</td><td>f64</td><td>f64</td><td>str</td><td>f64</td><td>f64</td></tr></thead><tbody><tr><td>&quot;Afghanistan&quot;</td><td>&quot;2017-01-01&quot;</td><td>&quot;Country or economy&quot;</td><td>&quot;Asia&quot;</td><td>85414020</td><td>&quot;Panels&quot;</td><td>49433</td><td>333324.0</td><td>1.663024e6</td><td>0.38</td><td>&quot;USD/W&quot;</td><td>4.38</td><td>4.38</td></tr><tr><td>&quot;Afghanistan&quot;</td><td>&quot;2017-02-01&quot;</td><td>&quot;Country or economy&quot;</td><td>&quot;Asia&quot;</td><td>85414020</td><td>&quot;Panels&quot;</td><td>5452</td><td>82456.0</td><td>337723.0</td><td>0.38</td><td>&quot;USD/W&quot;</td><td>0.89</td><td>5.27</td></tr><tr><td>&quot;Afghanistan&quot;</td><td>&quot;2017-03-01&quot;</td><td>&quot;Country or economy&quot;</td><td>&quot;Asia&quot;</td><td>85414020</td><td>&quot;Panels&quot;</td><td>51403</td><td>940507.0</td><td>3.477201e6</td><td>0.38</td><td>&quot;USD/W&quot;</td><td>9.15</td><td>14.42</td></tr><tr><td>&quot;Afghanistan&quot;</td><td>&quot;2017-04-01&quot;</td><td>&quot;Country or economy&quot;</td><td>&quot;Asia&quot;</td><td>85414020</td><td>&quot;Panels&quot;</td><td>100875</td><td>1.306053e6</td><td>4.783758e6</td><td>0.38</td><td>&quot;USD/W&quot;</td><td>12.59</td><td>27.0</td></tr><tr><td>&quot;Afghanistan&quot;</td><td>&quot;2017-05-01&quot;</td><td>&quot;Country or economy&quot;</td><td>&quot;Asia&quot;</td><td>85414020</td><td>&quot;Panels&quot;</td><td>67325</td><td>786843.0</td><td>2.823671e6</td><td>0.38</td><td>&quot;USD/W&quot;</td><td>7.43</td><td>34.44</td></tr><tr><td>&hellip;</td><td>&hellip;</td><td>&hellip;</td><td>&hellip;</td><td>&hellip;</td><td>&hellip;</td><td>&hellip;</td><td>&hellip;</td><td>&hellip;</td><td>&hellip;</td><td>&hellip;</td><td>&hellip;</td><td>&hellip;</td></tr><tr><td>&quot;World&quot;</td><td>&quot;2025-07-01&quot;</td><td>&quot;Region&quot;</td><td>null</td><td>85414200</td><td>&quot;Cells&quot;</td><td>1057092793</td><td>1.4459899e7</td><td>3.17281547e8</td><td>0.04</td><td>&quot;USD/W&quot;</td><td>8660.77</td><td>169729.89</td></tr><tr><td>&quot;World&quot;</td><td>&quot;2025-07-01&quot;</td><td>&quot;Region&quot;</td><td>null</td><td>85414300</td><td>&quot;Panels&quot;</td><td>47234049</td><td>1.0447e9</td><td>1.9063e9</td><td>0.09</td><td>&quot;USD/W&quot;</td><td>20124.49</td><td>1.0901e6</td></tr><tr><td>&quot;World&quot;</td><td>&quot;2025-08-01&quot;</td><td>&quot;Region&quot;</td><td>null</td><td>38180019</td><td>&quot;Wafers&quot;</td><td>604767658</td><td>6.659659e6</td><td>1.67968056e8</td><td>0.18</td><td>&quot;USD/pc&quot;</td><td>8705.87</td><td>224210.61</td></tr><tr><td>&quot;World&quot;</td><td>&quot;2025-08-01&quot;</td><td>&quot;Region&quot;</td><td>null</td><td>85414200</td><td>&quot;Cells&quot;</td><td>1434770346</td><td>1.9123022e7</td><td>4.83337873e8</td><td>0.04</td><td>&quot;USD/W&quot;</td><td>11945.82</td><td>181675.71</td></tr><tr><td>&quot;World&quot;</td><td>&quot;2025-08-01&quot;</td><td>&quot;Region&quot;</td><td>null</td><td>85414300</td><td>&quot;Panels&quot;</td><td>55456255</td><td>1.3636e9</td><td>2.4377e9</td><td>0.09</td><td>&quot;USD/W&quot;</td><td>25662.14</td><td>1.1157e6</td></tr></tbody></table></div>"
      ],
      "text/plain": [
       "shape: (26_656, 13)\n",
       "┌────────────┬────────────┬────────────┬────────┬───┬────────────┬────────┬────────────┬───────────┐\n",
       "│ Area       ┆ Date       ┆ Area type  ┆ Region ┆ … ┆ Commodity  ┆ Price  ┆ Capacity   ┆ Cumulativ │\n",
       "│ ---        ┆ ---        ┆ ---        ┆ ---    ┆   ┆ price      ┆ unit   ┆ (MW)       ┆ e         │\n",
       "│ str        ┆ str        ┆ str        ┆ str    ┆   ┆ ---        ┆ ---    ┆ ---        ┆ capacity  │\n",
       "│            ┆            ┆            ┆        ┆   ┆ f64        ┆ str    ┆ f64        ┆ (MW)      │\n",
       "│            ┆            ┆            ┆        ┆   ┆            ┆        ┆            ┆ ---       │\n",
       "│            ┆            ┆            ┆        ┆   ┆            ┆        ┆            ┆ f64       │\n",
       "╞════════════╪════════════╪════════════╪════════╪═══╪════════════╪════════╪════════════╪═══════════╡\n",
       "│ Afghanista ┆ 2017-01-01 ┆ Country or ┆ Asia   ┆ … ┆ 0.38       ┆ USD/W  ┆ 4.38       ┆ 4.38      │\n",
       "│ n          ┆            ┆ economy    ┆        ┆   ┆            ┆        ┆            ┆           │\n",
       "│ Afghanista ┆ 2017-02-01 ┆ Country or ┆ Asia   ┆ … ┆ 0.38       ┆ USD/W  ┆ 0.89       ┆ 5.27      │\n",
       "│ n          ┆            ┆ economy    ┆        ┆   ┆            ┆        ┆            ┆           │\n",
       "│ Afghanista ┆ 2017-03-01 ┆ Country or ┆ Asia   ┆ … ┆ 0.38       ┆ USD/W  ┆ 9.15       ┆ 14.42     │\n",
       "│ n          ┆            ┆ economy    ┆        ┆   ┆            ┆        ┆            ┆           │\n",
       "│ Afghanista ┆ 2017-04-01 ┆ Country or ┆ Asia   ┆ … ┆ 0.38       ┆ USD/W  ┆ 12.59      ┆ 27.0      │\n",
       "│ n          ┆            ┆ economy    ┆        ┆   ┆            ┆        ┆            ┆           │\n",
       "│ Afghanista ┆ 2017-05-01 ┆ Country or ┆ Asia   ┆ … ┆ 0.38       ┆ USD/W  ┆ 7.43       ┆ 34.44     │\n",
       "│ n          ┆            ┆ economy    ┆        ┆   ┆            ┆        ┆            ┆           │\n",
       "│ …          ┆ …          ┆ …          ┆ …      ┆ … ┆ …          ┆ …      ┆ …          ┆ …         │\n",
       "│ World      ┆ 2025-07-01 ┆ Region     ┆ null   ┆ … ┆ 0.04       ┆ USD/W  ┆ 8660.77    ┆ 169729.89 │\n",
       "│ World      ┆ 2025-07-01 ┆ Region     ┆ null   ┆ … ┆ 0.09       ┆ USD/W  ┆ 20124.49   ┆ 1.0901e6  │\n",
       "│ World      ┆ 2025-08-01 ┆ Region     ┆ null   ┆ … ┆ 0.18       ┆ USD/pc ┆ 8705.87    ┆ 224210.61 │\n",
       "│ World      ┆ 2025-08-01 ┆ Region     ┆ null   ┆ … ┆ 0.04       ┆ USD/W  ┆ 11945.82   ┆ 181675.71 │\n",
       "│ World      ┆ 2025-08-01 ┆ Region     ┆ null   ┆ … ┆ 0.09       ┆ USD/W  ┆ 25662.14   ┆ 1.1157e6  │\n",
       "└────────────┴────────────┴────────────┴────────┴───┴────────────┴────────┴────────────┴───────────┘"
      ]
     },
     "execution_count": 9,
     "metadata": {},
     "output_type": "execute_result"
    }
   ],
   "source": [
    "china_solar_exports_df = pl.read_csv(\"data/mart_solar_exports_full_release_monthly.csv\")\n",
    "china_solar_exports_df"
   ]
  },
  {
   "cell_type": "code",
   "execution_count": 10,
   "id": "a0e4b2aa",
   "metadata": {},
   "outputs": [
    {
     "data": {
      "text/html": [
       "<div><style>\n",
       ".dataframe > thead > tr,\n",
       ".dataframe > tbody > tr {\n",
       "  text-align: right;\n",
       "  white-space: pre-wrap;\n",
       "}\n",
       "</style>\n",
       "<small>shape: (13_523, 290)</small><table border=\"1\" class=\"dataframe\"><thead><tr><th>FREQ</th><th>FREQ_LABEL</th><th>REF_AREA</th><th>REF_AREA_LABEL</th><th>INDICATOR</th><th>INDICATOR_LABEL</th><th>UNIT_MEASURE</th><th>UNIT_MEASURE_LABEL</th><th>DATABASE_ID</th><th>DATABASE_ID_LABEL</th><th>UNIT_MULT</th><th>UNIT_MULT_LABEL</th><th>OBS_STATUS</th><th>OBS_STATUS_LABEL</th><th>OBS_CONF</th><th>OBS_CONF_LABEL</th><th>1750</th><th>1751</th><th>1752</th><th>1753</th><th>1754</th><th>1755</th><th>1756</th><th>1757</th><th>1758</th><th>1759</th><th>1760</th><th>1761</th><th>1762</th><th>1763</th><th>1764</th><th>1765</th><th>1766</th><th>1767</th><th>1768</th><th>1769</th><th>1770</th><th>&hellip;</th><th>1987</th><th>1988</th><th>1989</th><th>1990</th><th>1991</th><th>1992</th><th>1993</th><th>1994</th><th>1995</th><th>1996</th><th>1997</th><th>1998</th><th>1999</th><th>2000</th><th>2001</th><th>2002</th><th>2003</th><th>2004</th><th>2005</th><th>2006</th><th>2007</th><th>2008</th><th>2009</th><th>2010</th><th>2011</th><th>2012</th><th>2013</th><th>2014</th><th>2015</th><th>2016</th><th>2017</th><th>2018</th><th>2019</th><th>2020</th><th>2021</th><th>2022</th><th>2023</th></tr><tr><td>str</td><td>str</td><td>str</td><td>str</td><td>str</td><td>str</td><td>str</td><td>str</td><td>str</td><td>str</td><td>i64</td><td>str</td><td>str</td><td>str</td><td>str</td><td>str</td><td>f64</td><td>f64</td><td>f64</td><td>f64</td><td>f64</td><td>f64</td><td>f64</td><td>f64</td><td>f64</td><td>f64</td><td>f64</td><td>f64</td><td>f64</td><td>f64</td><td>f64</td><td>f64</td><td>f64</td><td>f64</td><td>f64</td><td>f64</td><td>f64</td><td>&hellip;</td><td>f64</td><td>f64</td><td>f64</td><td>f64</td><td>f64</td><td>f64</td><td>f64</td><td>f64</td><td>f64</td><td>f64</td><td>f64</td><td>f64</td><td>f64</td><td>f64</td><td>f64</td><td>f64</td><td>f64</td><td>f64</td><td>f64</td><td>f64</td><td>f64</td><td>f64</td><td>f64</td><td>f64</td><td>f64</td><td>f64</td><td>f64</td><td>f64</td><td>f64</td><td>f64</td><td>f64</td><td>f64</td><td>f64</td><td>f64</td><td>f64</td><td>f64</td><td>f64</td></tr></thead><tbody><tr><td>&quot;A&quot;</td><td>&quot;Annual&quot;</td><td>&quot;ABW&quot;</td><td>&quot;Aruba&quot;</td><td>&quot;OWID_CB_CEMENT_CO2&quot;</td><td>&quot;Annual CO2 emissions from ceme…</td><td>&quot;T_CO2&quot;</td><td>&quot;Tonnes of CO2&quot;</td><td>&quot;OWID_CB&quot;</td><td>&quot;CO2 and Greenhouse Gas Emissio…</td><td>6</td><td>&quot;Millions&quot;</td><td>&quot;A&quot;</td><td>&quot;Normal value&quot;</td><td>&quot;PU&quot;</td><td>&quot;Public&quot;</td><td>null</td><td>null</td><td>null</td><td>null</td><td>null</td><td>null</td><td>null</td><td>null</td><td>null</td><td>null</td><td>null</td><td>null</td><td>null</td><td>null</td><td>null</td><td>null</td><td>null</td><td>null</td><td>null</td><td>null</td><td>null</td><td>&hellip;</td><td>0.0</td><td>0.0</td><td>0.0</td><td>0.0</td><td>0.0</td><td>0.0</td><td>0.0</td><td>0.0</td><td>0.0</td><td>0.0</td><td>0.0</td><td>0.0</td><td>0.0</td><td>0.0</td><td>0.0</td><td>0.0</td><td>0.0</td><td>0.0</td><td>0.0</td><td>0.0</td><td>0.0</td><td>0.0</td><td>0.0</td><td>0.0</td><td>0.0</td><td>0.0</td><td>0.0</td><td>0.0</td><td>0.0</td><td>0.0</td><td>0.0</td><td>0.0</td><td>0.0</td><td>0.0</td><td>0.0</td><td>0.0</td><td>0.0</td></tr><tr><td>&quot;A&quot;</td><td>&quot;Annual&quot;</td><td>&quot;ABW&quot;</td><td>&quot;Aruba&quot;</td><td>&quot;OWID_CB_CEMENT_CO2_PER_CAPITA&quot;</td><td>&quot;Annual CO2 emissions from ceme…</td><td>&quot;RO&quot;</td><td>&quot;Ratio&quot;</td><td>&quot;OWID_CB&quot;</td><td>&quot;CO2 and Greenhouse Gas Emissio…</td><td>0</td><td>&quot;Units&quot;</td><td>&quot;A&quot;</td><td>&quot;Normal value&quot;</td><td>&quot;PU&quot;</td><td>&quot;Public&quot;</td><td>null</td><td>null</td><td>null</td><td>null</td><td>null</td><td>null</td><td>null</td><td>null</td><td>null</td><td>null</td><td>null</td><td>null</td><td>null</td><td>null</td><td>null</td><td>null</td><td>null</td><td>null</td><td>null</td><td>null</td><td>null</td><td>&hellip;</td><td>0.0</td><td>0.0</td><td>0.0</td><td>0.0</td><td>0.0</td><td>0.0</td><td>0.0</td><td>0.0</td><td>0.0</td><td>0.0</td><td>0.0</td><td>0.0</td><td>0.0</td><td>0.0</td><td>0.0</td><td>0.0</td><td>0.0</td><td>0.0</td><td>0.0</td><td>0.0</td><td>0.0</td><td>0.0</td><td>0.0</td><td>0.0</td><td>0.0</td><td>0.0</td><td>0.0</td><td>0.0</td><td>0.0</td><td>0.0</td><td>0.0</td><td>0.0</td><td>0.0</td><td>0.0</td><td>0.0</td><td>0.0</td><td>0.0</td></tr><tr><td>&quot;A&quot;</td><td>&quot;Annual&quot;</td><td>&quot;ABW&quot;</td><td>&quot;Aruba&quot;</td><td>&quot;OWID_CB_CO2&quot;</td><td>&quot;Annual CO2 emissions - Annual …</td><td>&quot;T_CO2&quot;</td><td>&quot;Tonnes of CO2&quot;</td><td>&quot;OWID_CB&quot;</td><td>&quot;CO2 and Greenhouse Gas Emissio…</td><td>6</td><td>&quot;Millions&quot;</td><td>&quot;A&quot;</td><td>&quot;Normal value&quot;</td><td>&quot;PU&quot;</td><td>&quot;Public&quot;</td><td>null</td><td>null</td><td>null</td><td>null</td><td>null</td><td>null</td><td>null</td><td>null</td><td>null</td><td>null</td><td>null</td><td>null</td><td>null</td><td>null</td><td>null</td><td>null</td><td>null</td><td>null</td><td>null</td><td>null</td><td>null</td><td>&hellip;</td><td>0.447</td><td>0.612</td><td>0.649</td><td>0.487</td><td>0.531</td><td>0.539</td><td>0.649</td><td>0.66</td><td>0.707</td><td>0.725</td><td>0.758</td><td>0.806</td><td>0.81</td><td>2.378</td><td>2.407</td><td>2.437</td><td>2.561</td><td>2.616</td><td>2.719</td><td>2.715</td><td>2.821</td><td>2.656</td><td>2.627</td><td>2.506</td><td>2.499</td><td>1.348</td><td>0.861</td><td>0.872</td><td>0.898</td><td>0.883</td><td>0.89</td><td>0.872</td><td>0.828</td><td>0.821</td><td>0.857</td><td>0.831</td><td>0.867</td></tr><tr><td>&quot;A&quot;</td><td>&quot;Annual&quot;</td><td>&quot;ABW&quot;</td><td>&quot;Aruba&quot;</td><td>&quot;OWID_CB_CO2_GROWTH_ABS&quot;</td><td>&quot;Annual CO2 emissions growth (a…</td><td>&quot;T_CO2&quot;</td><td>&quot;Tonnes of CO2&quot;</td><td>&quot;OWID_CB&quot;</td><td>&quot;CO2 and Greenhouse Gas Emissio…</td><td>6</td><td>&quot;Millions&quot;</td><td>&quot;A&quot;</td><td>&quot;Normal value&quot;</td><td>&quot;PU&quot;</td><td>&quot;Public&quot;</td><td>null</td><td>null</td><td>null</td><td>null</td><td>null</td><td>null</td><td>null</td><td>null</td><td>null</td><td>null</td><td>null</td><td>null</td><td>null</td><td>null</td><td>null</td><td>null</td><td>null</td><td>null</td><td>null</td><td>null</td><td>null</td><td>&hellip;</td><td>0.267</td><td>0.165</td><td>0.037</td><td>-0.161</td><td>0.044</td><td>0.007</td><td>0.11</td><td>0.011</td><td>0.048</td><td>0.018</td><td>0.033</td><td>0.048</td><td>0.004</td><td>1.568</td><td>0.029</td><td>0.029</td><td>0.125</td><td>0.055</td><td>0.103</td><td>-0.004</td><td>0.106</td><td>-0.165</td><td>-0.029</td><td>-0.121</td><td>-0.007</td><td>-1.15</td><td>-0.487</td><td>0.011</td><td>0.026</td><td>-0.015</td><td>0.007</td><td>-0.018</td><td>-0.044</td><td>-0.007</td><td>0.037</td><td>-0.026</td><td>0.036</td></tr><tr><td>&quot;A&quot;</td><td>&quot;Annual&quot;</td><td>&quot;ABW&quot;</td><td>&quot;Aruba&quot;</td><td>&quot;OWID_CB_CO2_GROWTH_PRCT&quot;</td><td>&quot;Annual CO2 emissions growth (%…</td><td>&quot;PT&quot;</td><td>&quot;Percentage&quot;</td><td>&quot;OWID_CB&quot;</td><td>&quot;CO2 and Greenhouse Gas Emissio…</td><td>0</td><td>&quot;Units&quot;</td><td>&quot;A&quot;</td><td>&quot;Normal value&quot;</td><td>&quot;PU&quot;</td><td>&quot;Public&quot;</td><td>null</td><td>null</td><td>null</td><td>null</td><td>null</td><td>null</td><td>null</td><td>null</td><td>null</td><td>null</td><td>null</td><td>null</td><td>null</td><td>null</td><td>null</td><td>null</td><td>null</td><td>null</td><td>null</td><td>null</td><td>null</td><td>&hellip;</td><td>148.98</td><td>36.885</td><td>5.988</td><td>-24.859</td><td>9.023</td><td>1.379</td><td>20.408</td><td>1.695</td><td>7.222</td><td>2.591</td><td>4.545</td><td>6.28</td><td>0.455</td><td>193.665</td><td>1.233</td><td>1.218</td><td>5.113</td><td>2.146</td><td>3.922</td><td>-0.135</td><td>3.914</td><td>-5.844</td><td>-1.103</td><td>-4.603</td><td>-0.292</td><td>-46.041</td><td>-36.141</td><td>1.277</td><td>2.941</td><td>-1.633</td><td>0.83</td><td>-2.058</td><td>-5.042</td><td>-0.885</td><td>4.464</td><td>-3.046</td><td>4.321</td></tr><tr><td>&hellip;</td><td>&hellip;</td><td>&hellip;</td><td>&hellip;</td><td>&hellip;</td><td>&hellip;</td><td>&hellip;</td><td>&hellip;</td><td>&hellip;</td><td>&hellip;</td><td>&hellip;</td><td>&hellip;</td><td>&hellip;</td><td>&hellip;</td><td>&hellip;</td><td>&hellip;</td><td>&hellip;</td><td>&hellip;</td><td>&hellip;</td><td>&hellip;</td><td>&hellip;</td><td>&hellip;</td><td>&hellip;</td><td>&hellip;</td><td>&hellip;</td><td>&hellip;</td><td>&hellip;</td><td>&hellip;</td><td>&hellip;</td><td>&hellip;</td><td>&hellip;</td><td>&hellip;</td><td>&hellip;</td><td>&hellip;</td><td>&hellip;</td><td>&hellip;</td><td>&hellip;</td><td>&hellip;</td><td>&hellip;</td><td>&hellip;</td><td>&hellip;</td><td>&hellip;</td><td>&hellip;</td><td>&hellip;</td><td>&hellip;</td><td>&hellip;</td><td>&hellip;</td><td>&hellip;</td><td>&hellip;</td><td>&hellip;</td><td>&hellip;</td><td>&hellip;</td><td>&hellip;</td><td>&hellip;</td><td>&hellip;</td><td>&hellip;</td><td>&hellip;</td><td>&hellip;</td><td>&hellip;</td><td>&hellip;</td><td>&hellip;</td><td>&hellip;</td><td>&hellip;</td><td>&hellip;</td><td>&hellip;</td><td>&hellip;</td><td>&hellip;</td><td>&hellip;</td><td>&hellip;</td><td>&hellip;</td><td>&hellip;</td><td>&hellip;</td><td>&hellip;</td><td>&hellip;</td><td>&hellip;</td></tr><tr><td>&quot;A&quot;</td><td>&quot;Annual&quot;</td><td>&quot;ZWE&quot;</td><td>&quot;Zimbabwe&quot;</td><td>&quot;OWID_CB_TEMPERATURE_CHANGE_FRO…</td><td>&quot;Change in global mean surface …</td><td>&quot;C&quot;</td><td>&quot;Degrees celsius (Â°C)&quot;</td><td>&quot;OWID_CB&quot;</td><td>&quot;CO2 and Greenhouse Gas Emissio…</td><td>0</td><td>&quot;Units&quot;</td><td>&quot;A&quot;</td><td>&quot;Normal value&quot;</td><td>&quot;PU&quot;</td><td>&quot;Public&quot;</td><td>null</td><td>null</td><td>null</td><td>null</td><td>null</td><td>null</td><td>null</td><td>null</td><td>null</td><td>null</td><td>null</td><td>null</td><td>null</td><td>null</td><td>null</td><td>null</td><td>null</td><td>null</td><td>null</td><td>null</td><td>null</td><td>&hellip;</td><td>0.0</td><td>0.0</td><td>0.0</td><td>0.0</td><td>0.0</td><td>0.0</td><td>0.0</td><td>0.0</td><td>0.0</td><td>0.0</td><td>0.0</td><td>0.0</td><td>0.0</td><td>0.0</td><td>0.0</td><td>0.0</td><td>0.0</td><td>0.0</td><td>0.0</td><td>0.0</td><td>0.0</td><td>0.0</td><td>0.0</td><td>0.0</td><td>0.0</td><td>0.0</td><td>0.0</td><td>0.0</td><td>0.0</td><td>0.0</td><td>0.0</td><td>0.0</td><td>0.0</td><td>0.0</td><td>0.0</td><td>0.0</td><td>0.0</td></tr><tr><td>&quot;A&quot;</td><td>&quot;Annual&quot;</td><td>&quot;ZWE&quot;</td><td>&quot;Zimbabwe&quot;</td><td>&quot;OWID_CB_TOTAL_GHG&quot;</td><td>&quot;Total greenhouse gas emissions…</td><td>&quot;T_CO2E&quot;</td><td>&quot;Tonnes of CO2-equivalent&quot;</td><td>&quot;OWID_CB&quot;</td><td>&quot;CO2 and Greenhouse Gas Emissio…</td><td>6</td><td>&quot;Millions&quot;</td><td>&quot;A&quot;</td><td>&quot;Normal value&quot;</td><td>&quot;PU&quot;</td><td>&quot;Public&quot;</td><td>null</td><td>null</td><td>null</td><td>null</td><td>null</td><td>null</td><td>null</td><td>null</td><td>null</td><td>null</td><td>null</td><td>null</td><td>null</td><td>null</td><td>null</td><td>null</td><td>null</td><td>null</td><td>null</td><td>null</td><td>null</td><td>&hellip;</td><td>43.533</td><td>46.123</td><td>47.291</td><td>49.814</td><td>48.972</td><td>50.684</td><td>47.708</td><td>49.978</td><td>57.509</td><td>57.466</td><td>50.785</td><td>55.991</td><td>56.587</td><td>52.026</td><td>51.783</td><td>46.541</td><td>50.243</td><td>50.628</td><td>53.919</td><td>47.79</td><td>52.901</td><td>40.924</td><td>39.368</td><td>46.067</td><td>42.302</td><td>39.463</td><td>38.597</td><td>37.165</td><td>37.427</td><td>34.763</td><td>35.38</td><td>35.722</td><td>34.348</td><td>31.323</td><td>33.549</td><td>33.772</td><td>33.955</td></tr><tr><td>&quot;A&quot;</td><td>&quot;Annual&quot;</td><td>&quot;ZWE&quot;</td><td>&quot;Zimbabwe&quot;</td><td>&quot;OWID_CB_TOTAL_GHG_EXCLUDING_LU…</td><td>&quot;Total greenhouse gas emissions…</td><td>&quot;T_CO2E&quot;</td><td>&quot;Tonnes of CO2-equivalent&quot;</td><td>&quot;OWID_CB&quot;</td><td>&quot;CO2 and Greenhouse Gas Emissio…</td><td>6</td><td>&quot;Millions&quot;</td><td>&quot;A&quot;</td><td>&quot;Normal value&quot;</td><td>&quot;PU&quot;</td><td>&quot;Public&quot;</td><td>null</td><td>null</td><td>null</td><td>null</td><td>null</td><td>null</td><td>null</td><td>null</td><td>null</td><td>null</td><td>null</td><td>null</td><td>null</td><td>null</td><td>null</td><td>null</td><td>null</td><td>null</td><td>null</td><td>null</td><td>null</td><td>&hellip;</td><td>20.322</td><td>21.242</td><td>21.443</td><td>21.163</td><td>21.312</td><td>22.6</td><td>21.902</td><td>23.274</td><td>20.955</td><td>20.95</td><td>19.912</td><td>20.305</td><td>22.165</td><td>20.264</td><td>18.969</td><td>18.272</td><td>16.816</td><td>15.592</td><td>16.999</td><td>16.772</td><td>16.309</td><td>14.066</td><td>14.747</td><td>15.298</td><td>17.035</td><td>18.107</td><td>18.635</td><td>19.453</td><td>19.386</td><td>17.527</td><td>17.082</td><td>18.689</td><td>17.531</td><td>15.775</td><td>17.599</td><td>17.91</td><td>18.608</td></tr><tr><td>&quot;A&quot;</td><td>&quot;Annual&quot;</td><td>&quot;ZWE&quot;</td><td>&quot;Zimbabwe&quot;</td><td>&quot;OWID_CB_TRADE_CO2&quot;</td><td>&quot;Annual CO2 emissions embedded …</td><td>&quot;T_CO2&quot;</td><td>&quot;Tonnes of CO2&quot;</td><td>&quot;OWID_CB&quot;</td><td>&quot;CO2 and Greenhouse Gas Emissio…</td><td>6</td><td>&quot;Millions&quot;</td><td>&quot;A&quot;</td><td>&quot;Normal value&quot;</td><td>&quot;PU&quot;</td><td>&quot;Public&quot;</td><td>null</td><td>null</td><td>null</td><td>null</td><td>null</td><td>null</td><td>null</td><td>null</td><td>null</td><td>null</td><td>null</td><td>null</td><td>null</td><td>null</td><td>null</td><td>null</td><td>null</td><td>null</td><td>null</td><td>null</td><td>null</td><td>&hellip;</td><td>null</td><td>null</td><td>null</td><td>2.449</td><td>1.95</td><td>0.941</td><td>0.746</td><td>-0.008</td><td>0.925</td><td>1.637</td><td>1.058</td><td>-0.573</td><td>-1.703</td><td>-1.834</td><td>-1.122</td><td>0.249</td><td>0.849</td><td>0.312</td><td>0.233</td><td>0.895</td><td>1.197</td><td>2.653</td><td>1.403</td><td>0.509</td><td>0.073</td><td>0.629</td><td>0.501</td><td>0.801</td><td>1.2</td><td>1.204</td><td>0.138</td><td>-0.252</td><td>-0.027</td><td>0.612</td><td>0.539</td><td>0.315</td><td>null</td></tr><tr><td>&quot;A&quot;</td><td>&quot;Annual&quot;</td><td>&quot;ZWE&quot;</td><td>&quot;Zimbabwe&quot;</td><td>&quot;OWID_CB_TRADE_CO2_SHARE&quot;</td><td>&quot;Share of annual CO2 emissions …</td><td>&quot;PT&quot;</td><td>&quot;Percentage&quot;</td><td>&quot;OWID_CB&quot;</td><td>&quot;CO2 and Greenhouse Gas Emissio…</td><td>0</td><td>&quot;Units&quot;</td><td>&quot;A&quot;</td><td>&quot;Normal value&quot;</td><td>&quot;PU&quot;</td><td>&quot;Public&quot;</td><td>null</td><td>null</td><td>null</td><td>null</td><td>null</td><td>null</td><td>null</td><td>null</td><td>null</td><td>null</td><td>null</td><td>null</td><td>null</td><td>null</td><td>null</td><td>null</td><td>null</td><td>null</td><td>null</td><td>null</td><td>null</td><td>&hellip;</td><td>null</td><td>null</td><td>null</td><td>15.765</td><td>12.591</td><td>5.632</td><td>4.651</td><td>-0.048</td><td>6.162</td><td>10.989</td><td>7.608</td><td>-4.054</td><td>-10.831</td><td>-13.273</td><td>-8.967</td><td>2.094</td><td>8.003</td><td>3.312</td><td>2.174</td><td>8.633</td><td>12.176</td><td>34.37</td><td>17.005</td><td>5.818</td><td>0.705</td><td>5.592</td><td>4.292</td><td>6.704</td><td>9.985</td><td>11.382</td><td>1.408</td><td>-2.252</td><td>-0.261</td><td>7.209</td><td>5.28</td><td>3.018</td><td>null</td></tr></tbody></table></div>"
      ],
      "text/plain": [
       "shape: (13_523, 290)\n",
       "┌──────┬────────────┬──────────┬────────────────┬───┬────────┬────────┬────────┬────────┐\n",
       "│ FREQ ┆ FREQ_LABEL ┆ REF_AREA ┆ REF_AREA_LABEL ┆ … ┆ 2020   ┆ 2021   ┆ 2022   ┆ 2023   │\n",
       "│ ---  ┆ ---        ┆ ---      ┆ ---            ┆   ┆ ---    ┆ ---    ┆ ---    ┆ ---    │\n",
       "│ str  ┆ str        ┆ str      ┆ str            ┆   ┆ f64    ┆ f64    ┆ f64    ┆ f64    │\n",
       "╞══════╪════════════╪══════════╪════════════════╪═══╪════════╪════════╪════════╪════════╡\n",
       "│ A    ┆ Annual     ┆ ABW      ┆ Aruba          ┆ … ┆ 0.0    ┆ 0.0    ┆ 0.0    ┆ 0.0    │\n",
       "│ A    ┆ Annual     ┆ ABW      ┆ Aruba          ┆ … ┆ 0.0    ┆ 0.0    ┆ 0.0    ┆ 0.0    │\n",
       "│ A    ┆ Annual     ┆ ABW      ┆ Aruba          ┆ … ┆ 0.821  ┆ 0.857  ┆ 0.831  ┆ 0.867  │\n",
       "│ A    ┆ Annual     ┆ ABW      ┆ Aruba          ┆ … ┆ -0.007 ┆ 0.037  ┆ -0.026 ┆ 0.036  │\n",
       "│ A    ┆ Annual     ┆ ABW      ┆ Aruba          ┆ … ┆ -0.885 ┆ 4.464  ┆ -3.046 ┆ 4.321  │\n",
       "│ …    ┆ …          ┆ …        ┆ …              ┆ … ┆ …      ┆ …      ┆ …      ┆ …      │\n",
       "│ A    ┆ Annual     ┆ ZWE      ┆ Zimbabwe       ┆ … ┆ 0.0    ┆ 0.0    ┆ 0.0    ┆ 0.0    │\n",
       "│ A    ┆ Annual     ┆ ZWE      ┆ Zimbabwe       ┆ … ┆ 31.323 ┆ 33.549 ┆ 33.772 ┆ 33.955 │\n",
       "│ A    ┆ Annual     ┆ ZWE      ┆ Zimbabwe       ┆ … ┆ 15.775 ┆ 17.599 ┆ 17.91  ┆ 18.608 │\n",
       "│ A    ┆ Annual     ┆ ZWE      ┆ Zimbabwe       ┆ … ┆ 0.612  ┆ 0.539  ┆ 0.315  ┆ null   │\n",
       "│ A    ┆ Annual     ┆ ZWE      ┆ Zimbabwe       ┆ … ┆ 7.209  ┆ 5.28   ┆ 3.018  ┆ null   │\n",
       "└──────┴────────────┴──────────┴────────────────┴───┴────────┴────────┴────────┴────────┘"
      ]
     },
     "execution_count": 10,
     "metadata": {},
     "output_type": "execute_result"
    }
   ],
   "source": [
    "c02_emissions_df = pl.read_csv(\"data/OWID_CB_WIDEF.csv\")\n",
    "c02_emissions_df"
   ]
  },
  {
   "cell_type": "code",
   "execution_count": null,
   "id": "c7fc6a33",
   "metadata": {},
   "outputs": [],
   "source": []
  }
 ],
 "metadata": {
  "kernelspec": {
   "display_name": "static-visualization-project",
   "language": "python",
   "name": "python3"
  },
  "language_info": {
   "codemirror_mode": {
    "name": "ipython",
    "version": 3
   },
   "file_extension": ".py",
   "mimetype": "text/x-python",
   "name": "python",
   "nbconvert_exporter": "python",
   "pygments_lexer": "ipython3",
   "version": "3.13.1"
  }
 },
 "nbformat": 4,
 "nbformat_minor": 5
}
